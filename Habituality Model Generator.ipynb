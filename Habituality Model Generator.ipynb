{
 "cells": [
  {
   "cell_type": "code",
   "execution_count": 1,
   "id": "4f18e171-cb61-4f83-a08d-2acb85ff0ab0",
   "metadata": {},
   "outputs": [],
   "source": [
    "import spacy\n",
    "nlp = spacy.load(\"en_core_web_sm\")\n",
    "\n",
    "\n",
    "import pandas as pd\n",
    "pd.set_option('display.max_rows', 500)\n",
    "pd.set_option('display.max_columns', 500)\n",
    "pd.set_option('display.width', 1000)\n",
    "pd.set_option(\"display.max_colwidth\", 10)\n",
    "import re\n",
    "\n",
    "import sklearn\n",
    "from sklearn.feature_extraction.text import CountVectorizer\n",
    "from sklearn.model_selection import StratifiedKFold, cross_val_predict, cross_val_score\n",
    "from sklearn.metrics import confusion_matrix, ConfusionMatrixDisplay, classification_report\n",
    "from sklearn.naive_bayes import MultinomialNB\n",
    "from sklearn.preprocessing import StandardScaler\n",
    "from sklearn.linear_model import LogisticRegression\n",
    "from sklearn.neural_network import MLPClassifier\n",
    "from sklearn.ensemble import VotingClassifier\n",
    "from sklearn.pipeline import Pipeline, make_pipeline\n",
    "from sklearn.svm import SVC, LinearSVC\n",
    "\n",
    "\n",
    "import nltk\n",
    "#nltk.download(\"stopwords\")\n",
    "#nltk.download(\"wordnet\")\n",
    "from nltk.corpus import stopwords\n",
    "from nltk.stem import WordNetLemmatizer\n",
    "from nltk.data import load\n",
    "#nltk.download('tagsets')\n",
    "tagdict = load('help/tagsets/upenn_tagset.pickle')\n",
    "\n",
    "import joblib\n",
    "import pylab as pl\n",
    "import copy\n",
    "import csv\n",
    "import numpy as np"
   ]
  },
  {
   "cell_type": "code",
   "execution_count": 2,
   "id": "ea8425c3-c9e6-4df3-b30e-a882919d32c2",
   "metadata": {},
   "outputs": [],
   "source": [
    "class Sentence:\n",
    "    habituality = 0 #using a ternary system: -1 = nonhabitual 0 = unclassified, 1 = habitual\n",
    "    pos1 = 0; pos2 = 0; pos3 = 0; pos4 = 0; pos5 = 0; pos6 = 0; a1 = 0; a2 = 0;\n",
    "    synPar1 = 0; synPar2 = 0; synPar3 = 0; synPar4 = 0;\n",
    "\n",
    "    def __init__(self, text):\n",
    "        self.text = text"
   ]
  },
  {
   "cell_type": "markdown",
   "id": "5cacf4be-4745-42ad-b1c9-8ef0a30676eb",
   "metadata": {},
   "source": [
    "### Preprocessing\n",
    "- Both the output from the Habitual Tagger and the Gold Standard data needed to train the classification model are imported\n",
    "- Training Data is put into a list of Sentence objects as well as a data frame that will be used later"
   ]
  },
  {
   "cell_type": "code",
   "execution_count": 3,
   "id": "454ac163-4678-4e1f-9733-3de9fa574169",
   "metadata": {},
   "outputs": [],
   "source": [
    "#CSV file from habitual tagger\n",
    "tagger_output_path = \"C:\\\\Users\\\\wiler\\\\Documents\\\\College\\\\Oral History\\\\features\\\\habitual be\\\\habitual rule.csv\" \n",
    "#sentences with one \"be\" that have been correctly labeled as habitual or non-habitual to train the tagger\n",
    "training_data_path = \"C:\\\\Users\\\\wiler\\\\Documents\\\\College\\\\Oral History\\\\features\\\\habitual be\\\\test gold standard lines+labels.csv\" \n"
   ]
  },
  {
   "cell_type": "code",
   "execution_count": 4,
   "id": "43ecdcfd-512e-4307-a5a3-9f3bd8fe8230",
   "metadata": {},
   "outputs": [
    {
     "name": "stdout",
     "output_type": "stream",
     "text": [
      "      Habituality   Sentence  POS1  POS2  POS3  POS4  POS5  POS6  A1  A2  A3  A4  A5  SynPar1  SynPar2  SynPar3  SynPar4  R1\n",
      "0            -1    Let's ...     1     0     0     0     0     0   0   1   0   0   0        1        0        0        0   0\n",
      "1            -1    It mig...     1     0     0     0     0     0   0   0   0   0   0        1        0        0        0   0\n",
      "2            -1    It was...     1     0     0     0     0     0   0   1   0   0   0        1        0        0        0   0\n",
      "3            -1    It use...     1     0     0     0     0     0   0   0   0   0   0        0        0        0        0   0\n",
      "4            -1    And I ...     1     0     0     0     0     0   0   0   0   0   0        0        0        0        0   0\n",
      "...         ...          ...   ...   ...   ...   ...   ...   ...  ..  ..  ..  ..  ..      ...      ...      ...      ...  ..\n",
      "4526         -1    And th...     1     0     0     0     0     0   0   0   0   0   0        0        1        0        0   0\n",
      "4527         -1    They m...     1     0     0     0     0     0   0   0   0   0   0        1        0        0        0   0\n",
      "4528         -1    She'd ...     1     0     0     0     0     0   0   0   0   0   0        0        0        0        0   0\n",
      "4529         -1    She sa...     1     0     0     0     0     0   0   0   0   0   0        0        0        0        0   0\n",
      "4530         -1    Somebo...     1     0     0     0     0     0   0   1   0   0   0        0        0        0        0   0\n",
      "\n",
      "[4531 rows x 18 columns]\n"
     ]
    }
   ],
   "source": [
    "#Sentences tagged by the Habitual Tagger are imported into the \"preData\" dataframe\n",
    "tagged_sentences = pd.read_csv(tagger_output_path) \n",
    "tagged_sentences['Sentence'] = tagged_sentences['Sentence'].str.strip() #takes away white space\n",
    "print(tagged_sentences)"
   ]
  },
  {
   "cell_type": "code",
   "execution_count": 5,
   "id": "70b85cb7-de7e-418e-91f5-b9203dd348f6",
   "metadata": {},
   "outputs": [
    {
     "name": "stdout",
     "output_type": "stream",
     "text": [
      "     Habituality   Sentence POS1 POS2 POS3 POS4 POS5 POS6 A1 A2 A3 A4 A5 SynPar1 SynPar2 SynPar3 SynPar4 R1\n",
      "0            -1   Let's ...    1    0    0    0    0    0  0  1  0  0  0       1       0       0       0  0\n",
      "1            -1   It mig...    1    0    0    0    0    0  0  0  0  0  0       1       0       0       0  0\n",
      "2            -1   It was...    1    0    0    0    0    0  0  1  0  0  0       1       0       0       0  0\n",
      "3            -1   It use...    1    0    0    0    0    0  0  0  0  0  0       0       0       0       0  0\n",
      "4            -1   And I ...    1    0    0    0    0    0  0  0  0  0  0       0       0       0       0  0\n",
      "...         ...         ...  ...  ...  ...  ...  ...  ... .. .. .. .. ..     ...     ...     ...     ... ..\n",
      "4526         -1   And th...    1    0    0    0    0    0  0  0  0  0  0       0       1       0       0  0\n",
      "4527         -1   They m...    1    0    0    0    0    0  0  0  0  0  0       1       0       0       0  0\n",
      "4528         -1   She'd ...    1    0    0    0    0    0  0  0  0  0  0       0       0       0       0  0\n",
      "4529         -1   She sa...    1    0    0    0    0    0  0  0  0  0  0       0       0       0       0  0\n",
      "4530         -1   Somebo...    1    0    0    0    0    0  0  1  0  0  0       0       0       0       0  0\n",
      "\n",
      "[4531 rows x 18 columns]\n"
     ]
    }
   ],
   "source": [
    "#Importing Gold Standard Training Data\n",
    "\n",
    "lines = []\n",
    "with open(training_data_path, \"r\", encoding=\"utf-8\") as file:\n",
    "    csv_reader = csv.reader(file)\n",
    "    for row in csv_reader:\n",
    "        lines.append(row)\n",
    "    \n",
    "# for line in lines:\n",
    "#     print(line)\n",
    "\n",
    "#Creates an array of Sentence objects out of gold standard data filtering out sentences with more than one \"be\"\n",
    "sen = []\n",
    "numBe = 0\n",
    "\n",
    "for i, line in enumerate(lines):\n",
    "    numBe = 0\n",
    "    parsed = nlp(line[0])\n",
    "    for i, word in enumerate(parsed):\n",
    "        if(word.text.lower() ==  \"be\"):\n",
    "            numBe += 1\n",
    "    if(numBe == 1):\n",
    "        sen.append(Sentence(line[0]))\n",
    "        \n",
    "#puts Sentence objects into a data frame called \"data\"\n",
    "data = pd.DataFrame()\n",
    "for i,sentence in enumerate(sen):\n",
    "    data = pd.concat([data, pd.DataFrame(tagged_sentences.iloc[i]).T])\n",
    "\n",
    "print(data)"
   ]
  },
  {
   "cell_type": "markdown",
   "id": "9e5abeb3-01d9-4156-8d28-bc2acfc37353",
   "metadata": {},
   "source": [
    "### N-grams\n",
    "- This section creates n-grams from the eight word window surrounding \"be\"\n",
    "- Each position (4 before and 4 after as well as \"be\") has a list. For every sentence, the POS of the word in the position is added to it's respective list. If there is no word in the position, a -1 is added to the array instead"
   ]
  },
  {
   "cell_type": "code",
   "execution_count": 6,
   "id": "1a680860-c3c9-4a8d-899e-1c803fb20ebd",
   "metadata": {},
   "outputs": [],
   "source": [
    "#w = word, p = previous (the word before be), pp = preprevious (two words before 'be'), ppp = prepreprevious (three words before 'be')\n",
    "#a = after (the word after 'be'), pa = postafter ('two words after 'be'), etc\n",
    "w = []\n",
    "pppp = []\n",
    "ppp = []\n",
    "pp = []\n",
    "p = []\n",
    "a = []\n",
    "pa = []\n",
    "ppa = []\n",
    "pppa = []"
   ]
  },
  {
   "cell_type": "code",
   "execution_count": 7,
   "id": "c9f2c9a1-f08d-4958-a142-3c97e0a2abd5",
   "metadata": {},
   "outputs": [],
   "source": [
    "for Sentence in sen:\n",
    "    parsed = nlp(Sentence.text)\n",
    "    for i, word in enumerate(parsed):\n",
    "        if (word.text.lower() == \"be\"):\n",
    "            w.append(word.pos_) #adds POS of \"be\" to w\n",
    "            beChildren = list(word.children)\n",
    "            if(word.head == word):\n",
    "                beSibling = []\n",
    "            else:\n",
    "                beSibling = list(word.head.children)\n",
    "            beDep = word.dep_\n",
    "            bePOS = word.pos_\n",
    "            beIndex = i\n",
    "            prepreprevious = None\n",
    "            preprevious = None\n",
    "            previous = None\n",
    "            after = None\n",
    "            postafter = None\n",
    "            postpostafter = None\n",
    "            if(i >= 4): #adds POS of 4 words before to pppp\n",
    "                preprepreprevious = parsed[i-4]\n",
    "                pppp.append(preprepreprevious.pos_)\n",
    "            else:\n",
    "                pppp.append(-1)\n",
    "            if(i >= 3):\n",
    "                prepreprevious = parsed[i-3] #adds POS of 3 words before to ppp\n",
    "                ppp.append(prepreprevious.pos_)\n",
    "            else:\n",
    "                ppp.append(-1)\n",
    "            if(i >= 2):\n",
    "                preprevious = parsed[i-2] #adds POS of 2 words before to pp\n",
    "                pp.append(preprevious.pos_)\n",
    "            else:\n",
    "                pp.append(-1)\n",
    "            if(i > 0):\n",
    "                previous = parsed[i-1]\n",
    "                p.append(previous.pos_)\n",
    "            else:\n",
    "                p.append(-1)\n",
    "            if(i+1 < len(parsed)):\n",
    "                after = parsed[i+1]\n",
    "                a.append(after.pos_)\n",
    "            else:\n",
    "                a.append(-1)\n",
    "            if(i+2 < len(parsed)):\n",
    "                postafter = parsed[i+2]\n",
    "                pa.append(postafter.pos_)\n",
    "            else:\n",
    "                pa.append(-1)\n",
    "            if(i+3 < len(parsed)):\n",
    "                postpostafter = parsed[i+3]\n",
    "                ppa.append(postpostafter.pos_)\n",
    "            else:\n",
    "                ppa.append(-1)\n",
    "            if(i+4 < len(parsed)):\n",
    "                postpostpostafter = parsed[i+4]\n",
    "                pppa.append(postpostpostafter.pos_)\n",
    "            else:\n",
    "                pppa.append(-1)"
   ]
  },
  {
   "cell_type": "code",
   "execution_count": 8,
   "id": "0aaf4ea9-2689-41bc-8987-6c54100e6b45",
   "metadata": {},
   "outputs": [],
   "source": [
    "# #print(w)\n",
    "# print(pppp)\n",
    "# print(ppp)\n",
    "# print(pp)\n",
    "# print(p)\n",
    "# print(a)\n",
    "# print(pa)\n",
    "# print(ppa)\n",
    "# print(pppa)"
   ]
  },
  {
   "cell_type": "code",
   "execution_count": 9,
   "id": "ae5fc537-653f-421f-aaf6-711ff1882dca",
   "metadata": {},
   "outputs": [],
   "source": [
    "#Generating N-grams\n",
    "corpus = [] \n",
    "wlemmatizer = WordNetLemmatizer()\n",
    "length = len(data['Sentence']) #finding total number of rows\n",
    "be_window = []\n",
    "for i in data['Sentence']: \n",
    "    start = 0\n",
    "    end = 0\n",
    "    parsed = nlp(i)\n",
    "    for j, word in enumerate(parsed):\n",
    "        if word.text.lower() == \"be\":\n",
    "            if(j >= 4):\n",
    "                start = j-4\n",
    "            else:\n",
    "                start = 0\n",
    "            if(len(i) > j+4):\n",
    "                end = j+4\n",
    "            else:\n",
    "                end = len(i)\n",
    "    be_window.append(parsed.text[start:end])\n",
    "    \n",
    "for i in range(length):\n",
    "\trev = re.sub('[^a-zA-Z]',' ',str(be_window[i])) #removes non-alpha characcters\n",
    "\trev = rev.lower() #text to lowercase\n",
    "\trev = rev.split()     #splits + lemmatizes each word\n",
    "\trev = [wlemmatizer.lemmatize(word) for word in rev if word not in stopwords.words('english')]\n",
    "\trev = ' '.join(rev) #from list to string\n",
    "\tcorpus.append(rev) #appending to the list\n",
    "    \n",
    "cv = CountVectorizer(ngram_range=(1, 2), max_features=int(length/10))\n",
    "x = cv.fit_transform(corpus).toarray() #converting to array\n",
    "y = data['Habituality'] #dependent variable\n",
    "y = y.astype('int')\n"
   ]
  },
  {
   "cell_type": "code",
   "execution_count": 10,
   "id": "95bed507-7761-4dec-9c22-527f0396ed50",
   "metadata": {},
   "outputs": [
    {
     "name": "stdout",
     "output_type": "stream",
     "text": [
      "              precision    recall  f1-score   support\n",
      "\n",
      " nonhabitual       0.80      0.98      0.88      3615\n",
      "    habitual       0.40      0.05      0.09       916\n",
      "\n",
      "    accuracy                           0.79      4531\n",
      "   macro avg       0.60      0.52      0.49      4531\n",
      "weighted avg       0.72      0.79      0.72      4531\n",
      "\n"
     ]
    },
    {
     "data": {
      "image/png": "[encoded data removed]",
      "text/plain": [
       "<Figure size 640x480 with 2 Axes>"
      ]
     },
     "metadata": {},
     "output_type": "display_data"
    }
   ],
   "source": [
    "## Training the n-gram model\n",
    "\n",
    "model = MultinomialNB() # using naive bayes classification algorithm\n",
    "predict_fit = model.fit(x,y)# fitting the model\n",
    "\n",
    "kfold = StratifiedKFold(n_splits=10)\n",
    "predictions = cross_val_predict(model, x, y, cv=kfold)\n",
    "target_names = ['nonhabitual', 'habitual']\n",
    "\n",
    "cm = confusion_matrix(y, predictions)\n",
    "cmd = ConfusionMatrixDisplay(cm, display_labels=['Non-Habitual','Habitual'])\n",
    "cmd.plot()\n",
    "\n",
    "target_names = ['nonhabitual', 'habitual']\n",
    "print(classification_report(y, predictions, target_names=target_names))"
   ]
  },
  {
   "cell_type": "code",
   "execution_count": 11,
   "id": "8abf851c-0fce-49bd-adfe-9984dabd607d",
   "metadata": {},
   "outputs": [
    {
     "data": {
      "text/plain": [
       "['n_gram.joblib']"
      ]
     },
     "execution_count": 11,
     "metadata": {},
     "output_type": "execute_result"
    }
   ],
   "source": [
    "#Exports model for future use\n",
    "cvs = cv.transform(corpus)\n",
    "joblib.dump(cv, \"cv.joblib\")\n",
    "joblib.dump(predict_fit, \"n_gram.joblib\")"
   ]
  },
  {
   "cell_type": "markdown",
   "id": "50072684-e780-4d65-b13d-9a14932fb043",
   "metadata": {},
   "source": [
    "### Simple Part of Speech\n",
    "- Adds POS of n-grams to classification model"
   ]
  },
  {
   "cell_type": "code",
   "execution_count": 12,
   "id": "7dc8f3dc-0c91-45cf-a4a7-96b2722213e0",
   "metadata": {},
   "outputs": [
    {
     "name": "stdout",
     "output_type": "stream",
     "text": [
      "          pos  num\n",
      "0         ADJ    0\n",
      "1         ADP    1\n",
      "2         ADV    2\n",
      "3         AUX    3\n",
      "4       CCONJ    4\n",
      "5        CONJ    5\n",
      "6         DET    6\n",
      "7         EOL    7\n",
      "8         IDS    8\n",
      "9        INTJ    9\n",
      "10      NAMES   10\n",
      "11       NOUN   11\n",
      "12     NO_TAG   12\n",
      "13        NUM   13\n",
      "14       PART   14\n",
      "15       PRON   15\n",
      "16      PROPN   16\n",
      "17      PUNCT   17\n",
      "18      SCONJ   18\n",
      "19      SPACE   19\n",
      "20        SYM   20\n",
      "21       VERB   21\n",
      "22          X   22\n",
      "23  __buil...   23\n",
      "24    __doc__   24\n",
      "25   __file__   25\n",
      "26  __load...   26\n",
      "27   __name__   27\n",
      "28  __pack...   28\n",
      "29  __pyx_...   29\n",
      "30   __spec__   30\n",
      "31   __test__   31\n",
      "32  univ_p...   32\n"
     ]
    }
   ],
   "source": [
    "#Creates a data frame of POS tags from spaCy, then assigns each POS a number\n",
    "pos_list = pd.DataFrame({'pos': dir(spacy.parts_of_speech)})\n",
    "num = []\n",
    "for i in range((len(pos_list))):\n",
    "    num.append(i)\n",
    "pos_list.insert(1, 'num', num)\n",
    "print(pos_list)"
   ]
  },
  {
   "cell_type": "code",
   "execution_count": 13,
   "id": "346798d5-9092-466d-98d0-faef90ba72e9",
   "metadata": {},
   "outputs": [],
   "source": [
    "#Replaces the text in the POS arrays with numbers\n",
    "# Replaces the text in the parts of speech arrays with numbers\n",
    "for i in range(len(w)):\n",
    "    for j in range(len(pos_list)):\n",
    "        if (w[i] == pos_list.iloc[j, 0]):\n",
    "            w[i] = pos_list.iloc[j, 1]\n",
    "        if (pppp[i] == pos_list.iloc[j, 0]):\n",
    "            pppp[i] = pos_list.iloc[j, 1]\n",
    "        if (ppp[i] == pos_list.iloc[j, 0]):\n",
    "            ppp[i] = pos_list.iloc[j, 1]\n",
    "        if (pp[i] == pos_list.iloc[j, 0]):\n",
    "            pp[i] = pos_list.iloc[j, 1]\n",
    "        if (p[i] == pos_list.iloc[j, 0]):\n",
    "            p[i] = pos_list.iloc[j, 1]\n",
    "        if (a[i] == pos_list.iloc[j, 0]):\n",
    "            a[i] = pos_list.iloc[j, 1]\n",
    "        if (pa[i] == pos_list.iloc[j, 0]):\n",
    "            pa[i] = pos_list.iloc[j, 1]\n",
    "        if (ppa[i] == pos_list.iloc[j, 0]):\n",
    "            ppa[i] = pos_list.iloc[j, 1]\n",
    "        if (pppa[i] == pos_list.iloc[j, 0]):\n",
    "            pppa[i] = pos_list.iloc[j, 1]"
   ]
  },
  {
   "cell_type": "code",
   "execution_count": 14,
   "id": "65c169f5-5146-45f7-a826-54ec6bde0689",
   "metadata": {},
   "outputs": [],
   "source": [
    "#print(w)\n",
    "# print(pppp)\n",
    "# print(ppp)\n",
    "# print(pp)\n",
    "# print(p)\n",
    "# print(a)\n",
    "# print(pa)\n",
    "# print(ppa)\n",
    "# print(pppa)"
   ]
  },
  {
   "cell_type": "code",
   "execution_count": 15,
   "id": "30818398-4edd-43ed-8f4c-37808bc302df",
   "metadata": {},
   "outputs": [
    {
     "name": "stdout",
     "output_type": "stream",
     "text": [
      "     Habituality   Sentence POS1 POS2 POS3 POS4 POS5 POS6 A1 A2 A3 A4 A5 SynPar1 SynPar2 SynPar3 SynPar4 R1  n-gram  word  preprepreprevious  prepreprevious  preprevious  previous  after  postafter  postpostafter  postpostpostafter\n",
      "0            -1   Let's ...    1    0    0    0    0    0  0  1  0  0  0       1       0       0       0  0      -1     3         16                  4              15           3     17          6         11              1        \n",
      "1            -1   It mig...    1    0    0    0    0    0  0  0  0  0  0       1       0       0       0  0      -1     3         -1                 -1              15           3     13         13         17             13        \n",
      "2            -1   It was...    1    0    0    0    0    0  0  1  0  0  0       1       0       0       0  0      -1     3         15                 21              15           3     17         -1         -1             -1        \n",
      "3            -1   It use...    1    0    0    0    0    0  0  0  0  0  0       0       0       0       0  0      -1     3         -1                 15              21          14      2          0         17             -1        \n",
      "4            -1   And I ...    1    0    0    0    0    0  0  0  0  0  0       0       0       0       0  0      -1     3         11                  3              21          14     21         17         -1             -1        \n",
      "...         ...         ...  ...  ...  ...  ...  ...  ... .. .. .. .. ..     ...     ...     ...     ... ..     ...   ...        ...                ...             ...         ...    ...        ...        ...            ...        \n",
      "4526         -1   And th...    1    0    0    0    0    0  0  0  0  0  0       0       1       0       0  0      -1     3         15                  3              21          14      1          6         11             17        \n",
      "4527         -1   They m...    1    0    0    0    0    0  0  0  0  0  0       1       0       0       0  0      -1     3         -1                 -1              15           3      2         17         15              3        \n",
      "4528         -1   She'd ...    1    0    0    0    0    0  0  0  0  0  0       0       0       0       0  0      -1     3          3                 14              21          14     21         15         17             -1        \n",
      "4529         -1   She sa...    1    0    0    0    0    0  0  0  0  0  0       0       0       0       0  0      -1     3         15                  3              14          21      2         18         15             21        \n",
      "4530         -1   Somebo...    1    0    0    0    0    0  0  1  0  0  0       0       0       0       0  0      -1     3         -1                 15              21          14      6         11         11             17        \n",
      "\n",
      "[4531 rows x 28 columns]\n"
     ]
    }
   ],
   "source": [
    "# Adds the part of speech and n-gram arrays into the data array\n",
    "data.insert(len(data.columns), \"n-gram\", predictions)\n",
    "data.insert(len(data.columns), \"word\", w)\n",
    "data.insert(len(data.columns), \"preprepreprevious\", pppp)\n",
    "data.insert(len(data.columns), \"prepreprevious\", ppp)\n",
    "data.insert(len(data.columns), \"preprevious\", pp)\n",
    "data.insert(len(data.columns), \"previous\", p)\n",
    "data.insert(len(data.columns), \"after\", a)\n",
    "data.insert(len(data.columns), \"postafter\", pa)\n",
    "data.insert(len(data.columns), \"postpostafter\", ppa)\n",
    "data.insert(len(data.columns), \"postpostpostafter\", pppa)\n",
    "print(data)"
   ]
  },
  {
   "cell_type": "markdown",
   "id": "0e32bf32-c450-4d02-8c74-ee30435d0254",
   "metadata": {},
   "source": [
    "### Classification Models"
   ]
  },
  {
   "cell_type": "code",
   "execution_count": 16,
   "id": "66f4b740-e0a7-4783-85e5-91cb5b97fbc1",
   "metadata": {},
   "outputs": [],
   "source": [
    "# Creates array of all the predictive variables\n",
    "X = data.drop(columns=['Habituality', 'Sentence'], axis=1)\n",
    "\n",
    "#Creates array of the response variable\n",
    "y = data['Habituality']"
   ]
  },
  {
   "cell_type": "code",
   "execution_count": 17,
   "id": "5969c575-0a7d-457a-a126-4359c27c8c79",
   "metadata": {},
   "outputs": [],
   "source": [
    "# Ensemble voting classifier using LogReg, MLP, and SVC into a pipeline\n",
    "scaler = StandardScaler()\n",
    "lr = LogisticRegression(class_weight='balanced', max_iter = 500)\n",
    "estimators=[('lr', LogisticRegression(max_iter = 10000, class_weight='balanced')), ('mlp', MLPClassifier(max_iter = 10000, solver='lbfgs', alpha=1e-5, hidden_layer_sizes=(5, 2), random_state=1)), ('svc', SVC(probability=True, max_iter = 10000, class_weight='balanced'))]\n",
    "ensemble = VotingClassifier(estimators, voting='soft')\n",
    "model4 = Pipeline([('standardize', scaler),\n",
    "                    ('ensemble', ensemble)])\n",
    "parameters = {'C':('ensemble', 'rbf'), 'C': [1, 10]}"
   ]
  },
  {
   "cell_type": "code",
   "execution_count": 18,
   "id": "114b1a83-70a1-4dbd-a5ea-81941c926753",
   "metadata": {},
   "outputs": [],
   "source": [
    "#Use k-fold to split the data into 10 test/train splits + generate predictions of habituality labels\n",
    "kfold = StratifiedKFold(n_splits=10)\n",
    "y = np.array(y, dtype=int)\n",
    "predictions = cross_val_predict(model4, X, y, cv=kfold)\n",
    "target_names = ['nonhabitual', 'habitual']"
   ]
  },
  {
   "cell_type": "code",
   "execution_count": 19,
   "id": "5adecded-53d0-4c41-8c05-90e30105a689",
   "metadata": {},
   "outputs": [
    {
     "name": "stdout",
     "output_type": "stream",
     "text": [
      "              precision    recall  f1-score   support\n",
      "\n",
      " nonhabitual       1.00      1.00      1.00      3615\n",
      "    habitual       0.99      0.99      0.99       916\n",
      "\n",
      "    accuracy                           1.00      4531\n",
      "   macro avg       0.99      1.00      0.99      4531\n",
      "weighted avg       1.00      1.00      1.00      4531\n",
      "\n"
     ]
    },
    {
     "data": {
      "image/png": "[encoded data removed]",
      "text/plain": [
       "<Figure size 640x480 with 2 Axes>"
      ]
     },
     "metadata": {},
     "output_type": "display_data"
    }
   ],
   "source": [
    "#Results\n",
    "cm2 = confusion_matrix(y, predictions)\n",
    "cmd2 = ConfusionMatrixDisplay(cm2, display_labels=['Non-Habitual','Habitual'])\n",
    "cmd2.plot()\n",
    "print(classification_report(y, predictions, target_names=target_names))"
   ]
  },
  {
   "cell_type": "code",
   "execution_count": 20,
   "id": "381c35aa-c34c-4f58-af6a-74a9f14201a1",
   "metadata": {},
   "outputs": [],
   "source": [
    "#Increasing the recall by increasing the confidence required for the model to classify a sentence as non-habitual\n",
    "kfold = StratifiedKFold(n_splits=10)\n",
    "prediction_probs = cross_val_predict(model4, X, y, cv=kfold, method = 'predict_proba')\n",
    "prediction_new = copy.deepcopy(prediction_probs)\n",
    "prediction_new = prediction_new[:,0]\n",
    "for i in range(len(prediction_probs)):\n",
    "    if (prediction_new[i] >= 0.84):\n",
    "        prediction_new[i] = -1\n",
    "    else:\n",
    "        prediction_new[i] = 1\n",
    "\n",
    "data_new = copy.deepcopy(data)\n",
    "data_new.insert(1, 'Probability Non-Habitual', prediction_probs[:,0])\n",
    "\n",
    "#Fitting model to the explanatory and response variables\n",
    "model_fit = model4.fit(X,y)\n",
    "\n",
    "# Setting the predictions of data_new to prediction_new instead of prediction_probs\n",
    "for i in range(len(data_new)):\n",
    "   data_new.iat[i,0] = prediction_new[i]"
   ]
  },
  {
   "cell_type": "code",
   "execution_count": 21,
   "id": "2790470b-e1c5-4bfc-ab33-9b9239eb248e",
   "metadata": {},
   "outputs": [
    {
     "name": "stdout",
     "output_type": "stream",
     "text": [
      "              precision    recall  f1-score   support\n",
      "\n",
      " nonhabitual       1.00      0.99      0.99      3615\n",
      "    habitual       0.96      1.00      0.98       916\n",
      "\n",
      "    accuracy                           0.99      4531\n",
      "   macro avg       0.98      0.99      0.99      4531\n",
      "weighted avg       0.99      0.99      0.99      4531\n",
      "\n"
     ]
    },
    {
     "data": {
      "image/png": "[encoded data removed]",
      "text/plain": [
       "<Figure size 640x480 with 2 Axes>"
      ]
     },
     "metadata": {},
     "output_type": "display_data"
    }
   ],
   "source": [
    "# Print results with higher threshold\n",
    "cm3 = confusion_matrix(y, prediction_new)\n",
    "cmd3 = ConfusionMatrixDisplay(cm3, display_labels=['Non-Habitual','Habitual'])\n",
    "cmd3.plot()\n",
    "print(classification_report(y, prediction_new, target_names=target_names))"
   ]
  },
  {
   "cell_type": "code",
   "execution_count": 22,
   "id": "83f78b33-c73a-4cf4-a8ad-f057dda84549",
   "metadata": {},
   "outputs": [
    {
     "data": {
      "text/plain": [
       "['habituality_model.joblib']"
      ]
     },
     "execution_count": 22,
     "metadata": {},
     "output_type": "execute_result"
    }
   ],
   "source": [
    "#Exporting the habitual model\n",
    "joblib.dump(model_fit, \"habituality_model.joblib\")"
   ]
  }
 ],
 "metadata": {
  "kernelspec": {
   "display_name": "Python 3 (ipykernel)",
   "language": "python",
   "name": "python3"
  },
  "language_info": {
   "codemirror_mode": {
    "name": "ipython",
    "version": 3
   },
   "file_extension": ".py",
   "mimetype": "text/x-python",
   "name": "python",
   "nbconvert_exporter": "python",
   "pygments_lexer": "ipython3",
   "version": "3.11.7"
  }
 },
 "nbformat": 4,
 "nbformat_minor": 5
}
